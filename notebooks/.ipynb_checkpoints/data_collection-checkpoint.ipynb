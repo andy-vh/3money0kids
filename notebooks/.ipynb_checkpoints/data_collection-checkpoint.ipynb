{
 "cells": [
  {
   "cell_type": "markdown",
   "metadata": {},
   "source": [
    "# Collecting Data\n",
    "When I first started looking into how I'd like to use machine learning for trading, I thought about what data was out there for me to look at that could *potentially* help me with informed trading. It's possible that data I collect could be informative or uninformative, but I needed to collect the data first and perform some analysis before I could arrive at any conclusion. There were three sources of data that I wanted to take a look at when I started:  \n",
    "1. Traditional price data (open, close, volume, etc.)\n",
    "2. Wikipedia pageviews\n",
    "3. Reddit metrics\n",
    "\n",
    "This notebook goes over how I gathered that data and how I stored them as simple .csv's. (Note that as data grows in volume and variety, using .csv's is non-ideal)"
   ]
  },
  {
   "cell_type": "markdown",
   "metadata": {},
   "source": [
    "# Price Data\n",
    "At the end of the day, my expectations of future prices is what is going to drive my trading bot. It's pretty obvious that price data will be needed for any informed trading I wish to do. The ccxt library offers a convenient way to gather OHLCV (open, high, low, close, volume) data for trading cryptocurrency."
   ]
  },
  {
   "cell_type": "code",
   "execution_count": 1,
   "metadata": {},
   "outputs": [],
   "source": [
    "import pandas as pd\n",
    "\n",
    "from datetime import datetime\n",
    "import ccxt\n",
    "import plotly.graph_objects as go"
   ]
  },
  {
   "cell_type": "code",
   "execution_count": 2,
   "metadata": {},
   "outputs": [],
   "source": [
    "binance = ccxt.binance()\n",
    "pairs = ['BTC/USDT', 'ETH/USDT', 'XRP/USDT']"
   ]
  },
  {
   "cell_type": "code",
   "execution_count": 3,
   "metadata": {},
   "outputs": [],
   "source": [
    "dfs = []\n",
    "\n",
    "for p in pairs:\n",
    "    candles = binance.fetch_ohlcv(p, '1d')\n",
    "    \n",
    "    pair = []\n",
    "    date = []\n",
    "    open_rate = []\n",
    "    high_rate = []\n",
    "    low_rate = []\n",
    "    close_rate = []\n",
    "    volume = []\n",
    "    \n",
    "    for candle in candles:\n",
    "        pair.append(p)\n",
    "        date.append(datetime.fromtimestamp(candle[0] / 1000.0).strftime('%Y-%m-%d'))\n",
    "        open_rate.append(candle[1])\n",
    "        high_rate.append(candle[2])\n",
    "        low_rate.append(candle[3])\n",
    "        close_rate.append(candle[4])\n",
    "        volume.append(candle[5])\n",
    "    \n",
    "    df = pd.DataFrame({\n",
    "        'pair' : pair,\n",
    "        'date' : date,\n",
    "        'open' : open_rate,\n",
    "        'high' : high_rate,\n",
    "        'low' : low_rate,\n",
    "        'close' : close_rate,\n",
    "        'volume' : volume\n",
    "    })\n",
    "    \n",
    "    dfs.append(df)\n",
    "    \n",
    "crypto_prices = pd.concat(dfs).reset_index(drop=True)"
   ]
  },
  {
   "cell_type": "code",
   "execution_count": 4,
   "metadata": {},
   "outputs": [
    {
     "data": {
      "text/html": [
       "<div>\n",
       "<style scoped>\n",
       "    .dataframe tbody tr th:only-of-type {\n",
       "        vertical-align: middle;\n",
       "    }\n",
       "\n",
       "    .dataframe tbody tr th {\n",
       "        vertical-align: top;\n",
       "    }\n",
       "\n",
       "    .dataframe thead th {\n",
       "        text-align: right;\n",
       "    }\n",
       "</style>\n",
       "<table border=\"1\" class=\"dataframe\">\n",
       "  <thead>\n",
       "    <tr style=\"text-align: right;\">\n",
       "      <th></th>\n",
       "      <th>pair</th>\n",
       "      <th>date</th>\n",
       "      <th>open</th>\n",
       "      <th>high</th>\n",
       "      <th>low</th>\n",
       "      <th>close</th>\n",
       "      <th>volume</th>\n",
       "    </tr>\n",
       "  </thead>\n",
       "  <tbody>\n",
       "    <tr>\n",
       "      <th>0</th>\n",
       "      <td>BTC/USDT</td>\n",
       "      <td>2018-10-25</td>\n",
       "      <td>6528.13</td>\n",
       "      <td>6600.00</td>\n",
       "      <td>6515.01</td>\n",
       "      <td>6538.63</td>\n",
       "      <td>9443.504156</td>\n",
       "    </tr>\n",
       "    <tr>\n",
       "      <th>1</th>\n",
       "      <td>BTC/USDT</td>\n",
       "      <td>2018-10-26</td>\n",
       "      <td>6538.63</td>\n",
       "      <td>6558.35</td>\n",
       "      <td>6463.04</td>\n",
       "      <td>6505.60</td>\n",
       "      <td>7776.907864</td>\n",
       "    </tr>\n",
       "    <tr>\n",
       "      <th>2</th>\n",
       "      <td>BTC/USDT</td>\n",
       "      <td>2018-10-27</td>\n",
       "      <td>6505.60</td>\n",
       "      <td>6514.17</td>\n",
       "      <td>6453.00</td>\n",
       "      <td>6489.93</td>\n",
       "      <td>5743.933728</td>\n",
       "    </tr>\n",
       "    <tr>\n",
       "      <th>3</th>\n",
       "      <td>BTC/USDT</td>\n",
       "      <td>2018-10-28</td>\n",
       "      <td>6489.93</td>\n",
       "      <td>6505.01</td>\n",
       "      <td>6315.00</td>\n",
       "      <td>6344.50</td>\n",
       "      <td>13827.224067</td>\n",
       "    </tr>\n",
       "    <tr>\n",
       "      <th>4</th>\n",
       "      <td>BTC/USDT</td>\n",
       "      <td>2018-10-29</td>\n",
       "      <td>6344.50</td>\n",
       "      <td>6395.00</td>\n",
       "      <td>6317.01</td>\n",
       "      <td>6330.87</td>\n",
       "      <td>8877.175385</td>\n",
       "    </tr>\n",
       "  </tbody>\n",
       "</table>\n",
       "</div>"
      ],
      "text/plain": [
       "       pair        date     open     high      low    close        volume\n",
       "0  BTC/USDT  2018-10-25  6528.13  6600.00  6515.01  6538.63   9443.504156\n",
       "1  BTC/USDT  2018-10-26  6538.63  6558.35  6463.04  6505.60   7776.907864\n",
       "2  BTC/USDT  2018-10-27  6505.60  6514.17  6453.00  6489.93   5743.933728\n",
       "3  BTC/USDT  2018-10-28  6489.93  6505.01  6315.00  6344.50  13827.224067\n",
       "4  BTC/USDT  2018-10-29  6344.50  6395.00  6317.01  6330.87   8877.175385"
      ]
     },
     "execution_count": 4,
     "metadata": {},
     "output_type": "execute_result"
    }
   ],
   "source": [
    "crypto_prices.head()"
   ]
  },
  {
   "cell_type": "code",
   "execution_count": 18,
   "metadata": {},
   "outputs": [],
   "source": [
    "crypto_prices.to_csv('../data/crypto_prices.csv')"
   ]
  },
  {
   "cell_type": "markdown",
   "metadata": {},
   "source": [
    "# Wikipedia Pageviews\n",
    "Another variable that interested me is seeing how many people are looking up topics such as cryptocurrency, Bitcoin, etc. on Wikipedia. The Wikimedia provides the mwviews library to collect this information. My intuition tells me that higher page views would correlate with higher interest in a certain cryptocurrency, but it could also be because they were mentioned a lot in the news recently (whether good or bad). "
   ]
  },
  {
   "cell_type": "code",
   "execution_count": 5,
   "metadata": {},
   "outputs": [],
   "source": [
    "from mwviews.api import PageviewsClient"
   ]
  },
  {
   "cell_type": "code",
   "execution_count": 6,
   "metadata": {},
   "outputs": [],
   "source": [
    "start_date = crypto_prices.date.min().replace('-','')\n",
    "end_date = crypto_prices.date.max().replace('-','')"
   ]
  },
  {
   "cell_type": "code",
   "execution_count": 7,
   "metadata": {},
   "outputs": [],
   "source": [
    "pv = PageviewsClient(user_agent='Gathering cryptocurrency pageview information')"
   ]
  },
  {
   "cell_type": "code",
   "execution_count": 8,
   "metadata": {},
   "outputs": [],
   "source": [
    "views = pv.article_views('en.wikipedia', ['Bitcoin', 'Ripple_(payment_protocol)', 'Ethereum', 'Cryptocurrency'],\n",
    "                granularity='daily', start=start_date, end=end_date)"
   ]
  },
  {
   "cell_type": "code",
   "execution_count": 21,
   "metadata": {},
   "outputs": [],
   "source": [
    "wiki_views = pd.DataFrame.from_dict(views, orient='index')\n",
    "wiki_views = wiki_pv.rename(str.lower, axis='columns')\n",
    "wiki_views = wiki_pv.reset_index().rename(columns={'index':'date', 'ripple_(payment_protocol)':'ripple'})"
   ]
  },
  {
   "cell_type": "code",
   "execution_count": 22,
   "metadata": {},
   "outputs": [
    {
     "data": {
      "text/html": [
       "<div>\n",
       "<style scoped>\n",
       "    .dataframe tbody tr th:only-of-type {\n",
       "        vertical-align: middle;\n",
       "    }\n",
       "\n",
       "    .dataframe tbody tr th {\n",
       "        vertical-align: top;\n",
       "    }\n",
       "\n",
       "    .dataframe thead th {\n",
       "        text-align: right;\n",
       "    }\n",
       "</style>\n",
       "<table border=\"1\" class=\"dataframe\">\n",
       "  <thead>\n",
       "    <tr style=\"text-align: right;\">\n",
       "      <th></th>\n",
       "      <th>date</th>\n",
       "      <th>date</th>\n",
       "      <th>bitcoin</th>\n",
       "      <th>ripple</th>\n",
       "      <th>ethereum</th>\n",
       "      <th>cryptocurrency</th>\n",
       "    </tr>\n",
       "  </thead>\n",
       "  <tbody>\n",
       "    <tr>\n",
       "      <th>0</th>\n",
       "      <td>0</td>\n",
       "      <td>2018-10-25</td>\n",
       "      <td>10190</td>\n",
       "      <td>1079</td>\n",
       "      <td>1899</td>\n",
       "      <td>5334</td>\n",
       "    </tr>\n",
       "    <tr>\n",
       "      <th>1</th>\n",
       "      <td>1</td>\n",
       "      <td>2018-10-26</td>\n",
       "      <td>9548</td>\n",
       "      <td>952</td>\n",
       "      <td>1788</td>\n",
       "      <td>5563</td>\n",
       "    </tr>\n",
       "    <tr>\n",
       "      <th>2</th>\n",
       "      <td>2</td>\n",
       "      <td>2018-10-27</td>\n",
       "      <td>9565</td>\n",
       "      <td>717</td>\n",
       "      <td>1543</td>\n",
       "      <td>3802</td>\n",
       "    </tr>\n",
       "    <tr>\n",
       "      <th>3</th>\n",
       "      <td>3</td>\n",
       "      <td>2018-10-28</td>\n",
       "      <td>8465</td>\n",
       "      <td>802</td>\n",
       "      <td>1842</td>\n",
       "      <td>4097</td>\n",
       "    </tr>\n",
       "    <tr>\n",
       "      <th>4</th>\n",
       "      <td>4</td>\n",
       "      <td>2018-10-29</td>\n",
       "      <td>11526</td>\n",
       "      <td>973</td>\n",
       "      <td>2391</td>\n",
       "      <td>5107</td>\n",
       "    </tr>\n",
       "  </tbody>\n",
       "</table>\n",
       "</div>"
      ],
      "text/plain": [
       "  date       date  bitcoin  ripple  ethereum  cryptocurrency\n",
       "0    0 2018-10-25    10190    1079      1899            5334\n",
       "1    1 2018-10-26     9548     952      1788            5563\n",
       "2    2 2018-10-27     9565     717      1543            3802\n",
       "3    3 2018-10-28     8465     802      1842            4097\n",
       "4    4 2018-10-29    11526     973      2391            5107"
      ]
     },
     "execution_count": 22,
     "metadata": {},
     "output_type": "execute_result"
    }
   ],
   "source": [
    "wiki_views.head()"
   ]
  },
  {
   "cell_type": "code",
   "execution_count": 23,
   "metadata": {},
   "outputs": [],
   "source": [
    "wiki_views.to_csv('../data/wiki_views.csv')"
   ]
  },
  {
   "cell_type": "markdown",
   "metadata": {},
   "source": [
    "# Reddit Metrics\n",
    "There are countless subreddits on Reddit relating to cryptocurrency, whether they are to discuss specific coins (/r/bitcoin, /r/ethereum, /r/ripple, and more), trading (/r/cryptocurrencytrading), general cryptocurrency (/r/cryptocurrency), or more. They provide countless variables that can be looked at for trading insights: comment and submission count, subreddit growth, or text data in the form of comments and submissions.  \n",
    "\n",
    "Unlike the data for exchange rates or Wikipedia pageviews, retrieving data from Reddit requires signing up for an account and using your own API key. Reddit provides the conditions and instructions to use their API [here](https://www.reddit.com/wiki/api)."
   ]
  },
  {
   "cell_type": "code",
   "execution_count": null,
   "metadata": {},
   "outputs": [],
   "source": []
  },
  {
   "cell_type": "markdown",
   "metadata": {},
   "source": [
    "# References\n",
    "[1] https://medium.com/coinmonks/python-scripts-for-ccxt-crypto-candlestick-ohlcv-charting-data-83926fa16a13  \n",
    "[2] https://blog.wikimedia.org/2015/12/14/pageview-data-easily-accessible/"
   ]
  }
 ],
 "metadata": {
  "kernelspec": {
   "display_name": "nomoney",
   "language": "python",
   "name": "nomoney"
  },
  "language_info": {
   "codemirror_mode": {
    "name": "ipython",
    "version": 3
   },
   "file_extension": ".py",
   "mimetype": "text/x-python",
   "name": "python",
   "nbconvert_exporter": "python",
   "pygments_lexer": "ipython3",
   "version": "3.8.1"
  }
 },
 "nbformat": 4,
 "nbformat_minor": 4
}
