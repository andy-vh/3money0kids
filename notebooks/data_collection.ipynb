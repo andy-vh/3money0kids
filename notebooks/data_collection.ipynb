{
 "cells": [
  {
   "cell_type": "markdown",
   "metadata": {},
   "source": [
    "# Overview\n",
    "When I first started looking into how I'd like to use machine learning for trading, I thought about what data was out there for me to look at that could *potentially* help me with informed trading. It's possible that data I collect could be informative or uninformative, but I needed to collect the data first and perform some analysis before I could arrive at any conclusion. There were three sources of data that I wanted to take a look at when I started:  \n",
    "1. Traditional price data (open, close, volume, etc.)\n",
    "2. Wikipedia pageviews\n",
    "3. Reddit submissions\n",
    "\n",
    "This notebook goes over how I gathered that data and how I stored them as simple .csv's. (Note that as data grows in volume and variety, using .csv's is non-ideal)"
   ]
  },
  {
   "cell_type": "markdown",
   "metadata": {},
   "source": [
    "# Price Data\n",
    "At the end of the day, my expectations of future prices is what is going to drive my trading bot. It's pretty obvious that price data will be needed for any informed trading I wish to do. The ccxt library offers a convenient way to gather OHLCV (open, high, low, close, volume) data for trading cryptocurrency."
   ]
  },
  {
   "cell_type": "code",
   "execution_count": 1,
   "metadata": {},
   "outputs": [],
   "source": [
    "import pandas as pd\n",
    "\n",
    "from datetime import datetime\n",
    "import ccxt\n",
    "import plotly.graph_objects as go"
   ]
  },
  {
   "cell_type": "code",
   "execution_count": 2,
   "metadata": {},
   "outputs": [],
   "source": [
    "binance = ccxt.binance()\n",
    "pairs = ['BTC/USDT', 'ETH/USDT', 'XRP/USDT']"
   ]
  },
  {
   "cell_type": "code",
   "execution_count": 3,
   "metadata": {},
   "outputs": [],
   "source": [
    "dfs = []\n",
    "\n",
    "for p in pairs:\n",
    "    candles = binance.fetch_ohlcv(p, '1d')\n",
    "    \n",
    "    pair = []\n",
    "    date = []\n",
    "    open_rate = []\n",
    "    high_rate = []\n",
    "    low_rate = []\n",
    "    close_rate = []\n",
    "    volume = []\n",
    "    \n",
    "    for candle in candles:\n",
    "        pair.append(p)\n",
    "        date.append(datetime.fromtimestamp(candle[0] / 1000.0).strftime('%Y-%m-%d'))\n",
    "        open_rate.append(candle[1])\n",
    "        high_rate.append(candle[2])\n",
    "        low_rate.append(candle[3])\n",
    "        close_rate.append(candle[4])\n",
    "        volume.append(candle[5])\n",
    "    \n",
    "    df = pd.DataFrame({\n",
    "        'pair' : pair,\n",
    "        'date' : date,\n",
    "        'open' : open_rate,\n",
    "        'high' : high_rate,\n",
    "        'low' : low_rate,\n",
    "        'close' : close_rate,\n",
    "        'volume' : volume\n",
    "    })\n",
    "    \n",
    "    dfs.append(df)\n",
    "    \n",
    "crypto_prices = pd.concat(dfs).reset_index(drop=True)"
   ]
  },
  {
   "cell_type": "code",
   "execution_count": 4,
   "metadata": {},
   "outputs": [
    {
     "data": {
      "text/html": [
       "<div>\n",
       "<style scoped>\n",
       "    .dataframe tbody tr th:only-of-type {\n",
       "        vertical-align: middle;\n",
       "    }\n",
       "\n",
       "    .dataframe tbody tr th {\n",
       "        vertical-align: top;\n",
       "    }\n",
       "\n",
       "    .dataframe thead th {\n",
       "        text-align: right;\n",
       "    }\n",
       "</style>\n",
       "<table border=\"1\" class=\"dataframe\">\n",
       "  <thead>\n",
       "    <tr style=\"text-align: right;\">\n",
       "      <th></th>\n",
       "      <th>pair</th>\n",
       "      <th>date</th>\n",
       "      <th>open</th>\n",
       "      <th>high</th>\n",
       "      <th>low</th>\n",
       "      <th>close</th>\n",
       "      <th>volume</th>\n",
       "    </tr>\n",
       "  </thead>\n",
       "  <tbody>\n",
       "    <tr>\n",
       "      <th>0</th>\n",
       "      <td>BTC/USDT</td>\n",
       "      <td>2018-12-21</td>\n",
       "      <td>3840.25</td>\n",
       "      <td>3979.00</td>\n",
       "      <td>3785.00</td>\n",
       "      <td>3948.91</td>\n",
       "      <td>42822.350872</td>\n",
       "    </tr>\n",
       "    <tr>\n",
       "      <th>1</th>\n",
       "      <td>BTC/USDT</td>\n",
       "      <td>2018-12-22</td>\n",
       "      <td>3948.91</td>\n",
       "      <td>4021.53</td>\n",
       "      <td>3870.00</td>\n",
       "      <td>3929.71</td>\n",
       "      <td>40117.531529</td>\n",
       "    </tr>\n",
       "    <tr>\n",
       "      <th>2</th>\n",
       "      <td>BTC/USDT</td>\n",
       "      <td>2018-12-23</td>\n",
       "      <td>3929.71</td>\n",
       "      <td>4198.00</td>\n",
       "      <td>3924.83</td>\n",
       "      <td>4008.01</td>\n",
       "      <td>64647.809129</td>\n",
       "    </tr>\n",
       "    <tr>\n",
       "      <th>3</th>\n",
       "      <td>BTC/USDT</td>\n",
       "      <td>2018-12-24</td>\n",
       "      <td>4010.11</td>\n",
       "      <td>4020.00</td>\n",
       "      <td>3646.41</td>\n",
       "      <td>3745.79</td>\n",
       "      <td>62725.629432</td>\n",
       "    </tr>\n",
       "    <tr>\n",
       "      <th>4</th>\n",
       "      <td>BTC/USDT</td>\n",
       "      <td>2018-12-25</td>\n",
       "      <td>3745.56</td>\n",
       "      <td>3837.15</td>\n",
       "      <td>3656.74</td>\n",
       "      <td>3777.74</td>\n",
       "      <td>42629.375817</td>\n",
       "    </tr>\n",
       "  </tbody>\n",
       "</table>\n",
       "</div>"
      ],
      "text/plain": [
       "       pair        date     open     high      low    close        volume\n",
       "0  BTC/USDT  2018-12-21  3840.25  3979.00  3785.00  3948.91  42822.350872\n",
       "1  BTC/USDT  2018-12-22  3948.91  4021.53  3870.00  3929.71  40117.531529\n",
       "2  BTC/USDT  2018-12-23  3929.71  4198.00  3924.83  4008.01  64647.809129\n",
       "3  BTC/USDT  2018-12-24  4010.11  4020.00  3646.41  3745.79  62725.629432\n",
       "4  BTC/USDT  2018-12-25  3745.56  3837.15  3656.74  3777.74  42629.375817"
      ]
     },
     "execution_count": 4,
     "metadata": {},
     "output_type": "execute_result"
    }
   ],
   "source": [
    "crypto_prices.head()"
   ]
  },
  {
   "cell_type": "code",
   "execution_count": 5,
   "metadata": {},
   "outputs": [],
   "source": [
    "crypto_prices.to_csv('../data/crypto_prices.csv')"
   ]
  },
  {
   "cell_type": "markdown",
   "metadata": {},
   "source": [
    "# Wikipedia Pageviews\n",
    "Another variable that interested me is seeing how many people are looking up topics such as cryptocurrency, Bitcoin, etc. on Wikipedia. The Wikimedia Foundation provides the mwviews library to collect this information. My intuition tells me that higher page views could correlate with higher interest in a certain cryptocurrency, which could make it an indicator for price movements."
   ]
  },
  {
   "cell_type": "code",
   "execution_count": 6,
   "metadata": {},
   "outputs": [],
   "source": [
    "from mwviews.api import PageviewsClient"
   ]
  },
  {
   "cell_type": "code",
   "execution_count": 7,
   "metadata": {},
   "outputs": [],
   "source": [
    "start_date = crypto_prices.date.min().replace('-','')\n",
    "end_date = crypto_prices.date.max().replace('-','')"
   ]
  },
  {
   "cell_type": "code",
   "execution_count": 8,
   "metadata": {},
   "outputs": [],
   "source": [
    "pv = PageviewsClient(user_agent='Gathering cryptocurrency pageview information')"
   ]
  },
  {
   "cell_type": "code",
   "execution_count": 9,
   "metadata": {},
   "outputs": [],
   "source": [
    "views = pv.article_views('en.wikipedia', ['Bitcoin', 'Ripple_(payment_protocol)', 'Ethereum', 'Cryptocurrency'],\n",
    "                granularity='daily', start=start_date, end=end_date)"
   ]
  },
  {
   "cell_type": "code",
   "execution_count": 10,
   "metadata": {},
   "outputs": [],
   "source": [
    "wiki_views = pd.DataFrame.from_dict(views, orient='index')\n",
    "wiki_views = wiki_views.rename(str.lower, axis='columns')\n",
    "wiki_views = wiki_views.reset_index().rename(columns={'index':'date', 'ripple_(payment_protocol)':'ripple'})"
   ]
  },
  {
   "cell_type": "code",
   "execution_count": 11,
   "metadata": {},
   "outputs": [
    {
     "data": {
      "text/html": [
       "<div>\n",
       "<style scoped>\n",
       "    .dataframe tbody tr th:only-of-type {\n",
       "        vertical-align: middle;\n",
       "    }\n",
       "\n",
       "    .dataframe tbody tr th {\n",
       "        vertical-align: top;\n",
       "    }\n",
       "\n",
       "    .dataframe thead th {\n",
       "        text-align: right;\n",
       "    }\n",
       "</style>\n",
       "<table border=\"1\" class=\"dataframe\">\n",
       "  <thead>\n",
       "    <tr style=\"text-align: right;\">\n",
       "      <th></th>\n",
       "      <th>date</th>\n",
       "      <th>bitcoin</th>\n",
       "      <th>ripple</th>\n",
       "      <th>ethereum</th>\n",
       "      <th>cryptocurrency</th>\n",
       "    </tr>\n",
       "  </thead>\n",
       "  <tbody>\n",
       "    <tr>\n",
       "      <th>0</th>\n",
       "      <td>2018-12-21</td>\n",
       "      <td>12817</td>\n",
       "      <td>863</td>\n",
       "      <td>1445</td>\n",
       "      <td>3482</td>\n",
       "    </tr>\n",
       "    <tr>\n",
       "      <th>1</th>\n",
       "      <td>2018-12-22</td>\n",
       "      <td>10507</td>\n",
       "      <td>691</td>\n",
       "      <td>1216</td>\n",
       "      <td>3627</td>\n",
       "    </tr>\n",
       "    <tr>\n",
       "      <th>2</th>\n",
       "      <td>2018-12-23</td>\n",
       "      <td>9330</td>\n",
       "      <td>792</td>\n",
       "      <td>1301</td>\n",
       "      <td>3158</td>\n",
       "    </tr>\n",
       "    <tr>\n",
       "      <th>3</th>\n",
       "      <td>2018-12-24</td>\n",
       "      <td>9452</td>\n",
       "      <td>854</td>\n",
       "      <td>1299</td>\n",
       "      <td>3398</td>\n",
       "    </tr>\n",
       "    <tr>\n",
       "      <th>4</th>\n",
       "      <td>2018-12-25</td>\n",
       "      <td>9181</td>\n",
       "      <td>824</td>\n",
       "      <td>1134</td>\n",
       "      <td>3117</td>\n",
       "    </tr>\n",
       "  </tbody>\n",
       "</table>\n",
       "</div>"
      ],
      "text/plain": [
       "        date  bitcoin  ripple  ethereum  cryptocurrency\n",
       "0 2018-12-21    12817     863      1445            3482\n",
       "1 2018-12-22    10507     691      1216            3627\n",
       "2 2018-12-23     9330     792      1301            3158\n",
       "3 2018-12-24     9452     854      1299            3398\n",
       "4 2018-12-25     9181     824      1134            3117"
      ]
     },
     "execution_count": 11,
     "metadata": {},
     "output_type": "execute_result"
    }
   ],
   "source": [
    "wiki_views.head()"
   ]
  },
  {
   "cell_type": "code",
   "execution_count": 12,
   "metadata": {},
   "outputs": [],
   "source": [
    "wiki_views.to_csv('../data/wiki_views.csv')"
   ]
  },
  {
   "cell_type": "markdown",
   "metadata": {},
   "source": [
    "# Reddit Submissions\n",
    "There are countless subreddits on Reddit relating to cryptocurrency, whether they are to discuss specific coins (/r/bitcoin, /r/ethereum, /r/ripple, and more), trading (/r/cryptocurrencytrading), general cryptocurrency (/r/cryptocurrency), or more. They provide countless variables that can be looked at for trading insights: comment and submission count, subreddit growth, or text data in the form of comments and submissions. For this example specifically, I'm only going to be saving the titles of popular submissions that I can later perform sentiment analysis on.\n",
    "\n",
    "Unlike the data for exchange rates or Wikipedia pageviews, retrieving data from Reddit requires signing up for an account and using your own API key. Reddit provides the conditions and instructions to use their API [here](https://www.reddit.com/wiki/api).\n",
    "\n",
    "I'm not going to be sharing my Reddit keys here, but once you have your own CLIENT_ID and CLIENT_SECRET for Reddit, you can look at [here](https://towardsdatascience.com/how-to-hide-your-api-keys-in-python-fb2e1a61b0a0) to see how to set them as environment variables like I did."
   ]
  },
  {
   "cell_type": "code",
   "execution_count": 13,
   "metadata": {},
   "outputs": [],
   "source": [
    "import praw\n",
    "import os"
   ]
  },
  {
   "cell_type": "code",
   "execution_count": 14,
   "metadata": {},
   "outputs": [],
   "source": [
    "CLIENT_ID = os.environ.get('CLIENT_ID')\n",
    "CLIENT_SECRET = os.environ.get('CLIENT_SECRET')"
   ]
  },
  {
   "cell_type": "code",
   "execution_count": 15,
   "metadata": {},
   "outputs": [],
   "source": [
    "reddit = praw.Reddit(client_id=CLIENT_ID, client_secret=CLIENT_SECRET,\n",
    "                    user_agent='gathering cryptocurrency community data - /u/crafting_vh')"
   ]
  },
  {
   "cell_type": "code",
   "execution_count": 16,
   "metadata": {},
   "outputs": [],
   "source": [
    "subreddits = ['bitcoin', 'ethereum', 'ripple', 'cryptocurrency']\n",
    "\n",
    "dfs = []\n",
    "for sub in subreddits:\n",
    "    subreddit = []\n",
    "    title = []\n",
    "    score = []\n",
    "    created_utc = []\n",
    "    \n",
    "    for s in reddit.subreddit(sub).top('all', limit=100):\n",
    "        subreddit.append(sub)\n",
    "        title.append(s.title)\n",
    "        score.append(s.score)\n",
    "        created_utc.append(s.created_utc)\n",
    "        \n",
    "    df = pd.DataFrame({\n",
    "        'subreddit' : subreddit,\n",
    "        'title' : title,\n",
    "        'score' : score,\n",
    "        'created_utc' : created_utc\n",
    "    })\n",
    "    \n",
    "    dfs.append(df)\n",
    "        \n",
    "reddit_submissions = pd.concat(dfs).reset_index(drop=True)\n",
    "reddit_submissions.created_utc = pd.to_datetime(reddit_submissions.created_utc, unit='s').dt.strftime('%Y-%m-%d')"
   ]
  },
  {
   "cell_type": "code",
   "execution_count": 17,
   "metadata": {
    "scrolled": false
   },
   "outputs": [
    {
     "data": {
      "text/html": [
       "<div>\n",
       "<style scoped>\n",
       "    .dataframe tbody tr th:only-of-type {\n",
       "        vertical-align: middle;\n",
       "    }\n",
       "\n",
       "    .dataframe tbody tr th {\n",
       "        vertical-align: top;\n",
       "    }\n",
       "\n",
       "    .dataframe thead th {\n",
       "        text-align: right;\n",
       "    }\n",
       "</style>\n",
       "<table border=\"1\" class=\"dataframe\">\n",
       "  <thead>\n",
       "    <tr style=\"text-align: right;\">\n",
       "      <th></th>\n",
       "      <th>subreddit</th>\n",
       "      <th>title</th>\n",
       "      <th>score</th>\n",
       "      <th>created_utc</th>\n",
       "    </tr>\n",
       "  </thead>\n",
       "  <tbody>\n",
       "    <tr>\n",
       "      <th>0</th>\n",
       "      <td>bitcoin</td>\n",
       "      <td>It's official! 1 Bitcoin = $10,000 USD</td>\n",
       "      <td>48506</td>\n",
       "      <td>2017-11-29</td>\n",
       "    </tr>\n",
       "    <tr>\n",
       "      <th>1</th>\n",
       "      <td>bitcoin</td>\n",
       "      <td>The last 3 months in 47 seconds.</td>\n",
       "      <td>48471</td>\n",
       "      <td>2018-02-04</td>\n",
       "    </tr>\n",
       "    <tr>\n",
       "      <th>2</th>\n",
       "      <td>bitcoin</td>\n",
       "      <td>It's over 9000!!!</td>\n",
       "      <td>42435</td>\n",
       "      <td>2017-11-26</td>\n",
       "    </tr>\n",
       "    <tr>\n",
       "      <th>3</th>\n",
       "      <td>bitcoin</td>\n",
       "      <td>Everyone who's trading BTC right now</td>\n",
       "      <td>42042</td>\n",
       "      <td>2018-01-06</td>\n",
       "    </tr>\n",
       "    <tr>\n",
       "      <th>4</th>\n",
       "      <td>bitcoin</td>\n",
       "      <td>Quick, upvote this to confuse everyone into th...</td>\n",
       "      <td>36853</td>\n",
       "      <td>2019-07-24</td>\n",
       "    </tr>\n",
       "  </tbody>\n",
       "</table>\n",
       "</div>"
      ],
      "text/plain": [
       "  subreddit                                              title  score  \\\n",
       "0   bitcoin             It's official! 1 Bitcoin = $10,000 USD  48506   \n",
       "1   bitcoin                   The last 3 months in 47 seconds.  48471   \n",
       "2   bitcoin                                  It's over 9000!!!  42435   \n",
       "3   bitcoin               Everyone who's trading BTC right now  42042   \n",
       "4   bitcoin  Quick, upvote this to confuse everyone into th...  36853   \n",
       "\n",
       "  created_utc  \n",
       "0  2017-11-29  \n",
       "1  2018-02-04  \n",
       "2  2017-11-26  \n",
       "3  2018-01-06  \n",
       "4  2019-07-24  "
      ]
     },
     "execution_count": 17,
     "metadata": {},
     "output_type": "execute_result"
    }
   ],
   "source": [
    "reddit_submissions.head()"
   ]
  },
  {
   "cell_type": "code",
   "execution_count": 18,
   "metadata": {},
   "outputs": [],
   "source": [
    "reddit_submissions.to_csv('../data/reddit_submissions.csv')"
   ]
  },
  {
   "cell_type": "markdown",
   "metadata": {},
   "source": [
    "# References\n",
    "[1] https://medium.com/coinmonks/python-scripts-for-ccxt-crypto-candlestick-ohlcv-charting-data-83926fa16a13  \n",
    "[2] https://blog.wikimedia.org/2015/12/14/pageview-data-easily-accessible/  \n",
    "[3] https://towardsdatascience.com/how-to-hide-your-api-keys-in-python-fb2e1a61b0a0"
   ]
  }
 ],
 "metadata": {
  "kernelspec": {
   "display_name": "nomoney",
   "language": "python",
   "name": "nomoney"
  },
  "language_info": {
   "codemirror_mode": {
    "name": "ipython",
    "version": 3
   },
   "file_extension": ".py",
   "mimetype": "text/x-python",
   "name": "python",
   "nbconvert_exporter": "python",
   "pygments_lexer": "ipython3",
   "version": "3.8.1"
  }
 },
 "nbformat": 4,
 "nbformat_minor": 4
}
